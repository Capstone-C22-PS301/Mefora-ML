{
  "cells": [
    {
      "cell_type": "code",
      "execution_count": 2,
      "metadata": {
        "colab": {
          "base_uri": "https://localhost:8080/"
        },
        "id": "oW3DNwOeVIAO",
        "outputId": "9f719dea-30f9-4965-b0e1-3b4879a35b6e"
      },
      "outputs": [
        {
          "name": "stdout",
          "output_type": "stream",
          "text": [
            "\u001b[K     |████████████████████████████████| 85 kB 3.7 MB/s \n",
            "\u001b[K     |████████████████████████████████| 462 kB 18.7 MB/s \n",
            "\u001b[K     |████████████████████████████████| 4.2 MB 7.9 MB/s \n",
            "\u001b[K     |████████████████████████████████| 10.9 MB 10.2 MB/s \n",
            "\u001b[?25h"
          ]
        }
      ],
      "source": [
        "!pip install -q tensorflow-recommenders\n",
        "!pip install -q --upgrade tensorflow-datasets\n",
        "!pip install -q scann"
      ]
    },
    {
      "cell_type": "code",
      "execution_count": 1,
      "metadata": {
        "id": "RK5zVSV5U-Dq"
      },
      "outputs": [],
      "source": [
        "import numpy as np\n",
        "import pandas as pd\n",
        "import tensorflow as tf\n",
        "import matplotlib.pyplot as plt\n",
        "import seaborn as sns\n",
        "from typing import Dict, Text\n",
        "\n",
        "import tensorflow_recommenders as tfrs\n",
        "import tensorflow_datasets as tfds"
      ]
    },
    {
      "cell_type": "markdown",
      "metadata": {},
      "source": [
        "Load the data, use the necessary columns, and convert the data to tensorflow dataset"
      ]
    },
    {
      "cell_type": "code",
      "execution_count": 2,
      "metadata": {
        "id": "p8satlOuU-Dt"
      },
      "outputs": [],
      "source": [
        "user_profile_df = pd.read_csv('dataset\\\\user_activities.csv')\n",
        "foods_df = pd.read_csv('dataset\\\\dataset.csv')\n",
        "user_profile_df = user_profile_df[['Disease','food_name']]\n",
        "foods_df = foods_df.drop(['description','Price'],axis=1)\n",
        "user_profile_ds = tf.data.Dataset.from_tensor_slices(dict(user_profile_df))\n",
        "foods_ds = tf.data.Dataset.from_tensor_slices(dict(foods_df))"
      ]
    },
    {
      "cell_type": "code",
      "execution_count": 3,
      "metadata": {
        "id": "A95yooE7U-Dv"
      },
      "outputs": [],
      "source": [
        "foods_ds = foods_ds.map(lambda x: x[\"Name\"])"
      ]
    },
    {
      "cell_type": "markdown",
      "metadata": {},
      "source": [
        "Split the training and test into 80:20"
      ]
    },
    {
      "cell_type": "code",
      "execution_count": 4,
      "metadata": {
        "id": "oMlkbxBNU-Dv"
      },
      "outputs": [],
      "source": [
        "tf.random.set_seed(42)\n",
        "shuffled = user_profile_ds.shuffle(100_000, seed=42, reshuffle_each_iteration=False)\n",
        "\n",
        "train = shuffled.take(80_000)\n",
        "test = shuffled.take(20_000)"
      ]
    },
    {
      "cell_type": "code",
      "execution_count": null,
      "metadata": {
        "id": "pFblYeixU-Dw"
      },
      "outputs": [],
      "source": [
        "for tensor in train:\n",
        "    print(tensor)"
      ]
    },
    {
      "cell_type": "markdown",
      "metadata": {},
      "source": [
        "Get the unique disease and food names"
      ]
    },
    {
      "cell_type": "code",
      "execution_count": 8,
      "metadata": {
        "colab": {
          "base_uri": "https://localhost:8080/"
        },
        "id": "BHWnL8jNU-Dw",
        "outputId": "42c4864a-0889-45e4-a446-ae013d912300"
      },
      "outputs": [
        {
          "data": {
            "text/plain": [
              "array([b'anemia kidney_disease goitre rickets diabeties pregnancy',\n",
              "       b'anemia kidney_disease goitre rickets pregnancy', b'cancer',\n",
              "       b'cancer anemia obesity kidney_disease goitre pregnancy',\n",
              "       b'cancer anemia obesity kidney_disease pregnancy',\n",
              "       b'cancer hypertension goitre heart_disease scurvy',\n",
              "       b'cancer kidney_disease obesity anemia diabeties scurvy pregnancy',\n",
              "       b'cancer kidney_disease obesity anemia heart_disease diabeties',\n",
              "       b'cancer kidney_disease obesity hypertension anemia goitre heart_disease diabeties rickets pregnancy',\n",
              "       b'diabeties goitre', b'diabeties hypertension', b'goitre',\n",
              "       b'goitre hypertension', b'goitre kidney_disease', b'hypertension',\n",
              "       b'hypertension heart_disease',\n",
              "       b'hypertension obesity anemia goitre heart_disease diabeties rickets pregnancy',\n",
              "       b'kidney_disease goitre hypertension',\n",
              "       b'kidney_disease hypertension anemia goitre heart_disease diabeties scurvy pregnancy',\n",
              "       b'kidney_disease hypertension anemia goitre rickets scurvy pregnancy',\n",
              "       b'kidney_disease hypertension goitre heart_disease scurvy pregnancy',\n",
              "       b'kidney_disease obesity goitre scurvy pregnancy',\n",
              "       b'kidney_disease obesity hypertension goitre heart_disease scurvy pregnancy',\n",
              "       b'obesity cancer hypertension', b'obesity diabeties goitre anemia',\n",
              "       b'obesity diabeties goitre hypertension',\n",
              "       b'obesity eye_disease heart_disease',\n",
              "       b'obesity kidney_disease scurvy heart_disease',\n",
              "       b'pregnancy anemia kidney_disease',\n",
              "       b'scurvy rickets eye_disease heart_disease'], dtype=object)"
            ]
          },
          "execution_count": 8,
          "metadata": {},
          "output_type": "execute_result"
        }
      ],
      "source": [
        "food_names = foods_ds.batch(20)\n",
        "disease_names = user_profile_ds.batch(20).map(lambda x: x['Disease'])\n",
        "#for tensor in list(disease_names):\n",
        "    #print(tensor)\n",
        "unique_food_names = np.unique(np.concatenate(list(food_names)))\n",
        "unique_disease_names = np.unique(np.concatenate(list(disease_names)))\n",
        "\n",
        "unique_disease_names[:100]"
      ]
    },
    {
      "cell_type": "code",
      "execution_count": 9,
      "metadata": {
        "id": "naa9WG5GU-Dx"
      },
      "outputs": [],
      "source": [
        "embedding_dimension = 32"
      ]
    },
    {
      "cell_type": "markdown",
      "metadata": {},
      "source": [
        "Create the embedding model for disease and food names"
      ]
    },
    {
      "cell_type": "code",
      "execution_count": 10,
      "metadata": {
        "id": "7eYqnUyTU-Dx"
      },
      "outputs": [],
      "source": [
        "disease_model = tf.keras.Sequential([\n",
        "    tf.keras.layers.StringLookup(vocabulary= unique_disease_names, mask_token=None),\n",
        "    tf.keras.layers.Embedding(len(unique_disease_names)+1, embedding_dimension)\n",
        "    ])\n",
        "#disease_vocab.adapt(user_profile_ds.map(lambda x: x['Disease']))\n",
        "\n",
        "food_model = tf.keras.Sequential([\n",
        "    tf.keras.layers.StringLookup(vocabulary=unique_food_names,mask_token=None),\n",
        "    tf.keras.layers.Embedding(len(unique_food_names)+1, embedding_dimension)\n",
        "    ])"
      ]
    },
    {
      "cell_type": "code",
      "execution_count": 12,
      "metadata": {
        "id": "RR3D4SYBU-Dy"
      },
      "outputs": [],
      "source": [
        "metrics = tfrs.metrics.FactorizedTopK(\n",
        "    candidates=foods_ds.batch(20).map(food_model)\n",
        ")"
      ]
    },
    {
      "cell_type": "code",
      "execution_count": 13,
      "metadata": {
        "id": "kMMJTu_FU-Dy"
      },
      "outputs": [],
      "source": [
        "task = tfrs.tasks.Retrieval(\n",
        "    metrics=metrics\n",
        ")"
      ]
    },
    {
      "cell_type": "code",
      "execution_count": 14,
      "metadata": {
        "id": "EDKxAirCU-Dz"
      },
      "outputs": [],
      "source": [
        "class DRSModel(tfrs.Model):\n",
        "    def __init__(self, user_model, query_model, task):\n",
        "        super().__init__()\n",
        "\n",
        "        self.user_model: tf.keras.Model = user_model\n",
        "        self.query_model: tf.keras.Model = query_model\n",
        "\n",
        "        self.task: tf.keras.layers.Layer = task\n",
        "\n",
        "    def compute_loss(self, features: Dict[Text, tf.Tensor], training=False) -> tf.Tensor:\n",
        "        disease_embeddings = self.user_model(features[\"Disease\"])\n",
        "        diet_embeddings = self.query_model(features[\"food_name\"])\n",
        "\n",
        "        return self.task(disease_embeddings, diet_embeddings)"
      ]
    },
    {
      "cell_type": "markdown",
      "metadata": {},
      "source": [
        "Compile the model"
      ]
    },
    {
      "cell_type": "code",
      "execution_count": 15,
      "metadata": {
        "id": "viix9ClEU-D0"
      },
      "outputs": [],
      "source": [
        "model = DRSModel(disease_model, food_model, task)\n",
        "model.compile(optimizer=tf.keras.optimizers.Adagrad(learning_rate=0.1))"
      ]
    },
    {
      "cell_type": "code",
      "execution_count": 16,
      "metadata": {
        "id": "IDUim9AbYjUP"
      },
      "outputs": [],
      "source": [
        "cached_train = train.shuffle(100).batch(50).cache()\n",
        "cached_test = test.batch(4).cache()"
      ]
    },
    {
      "cell_type": "code",
      "execution_count": 17,
      "metadata": {
        "colab": {
          "base_uri": "https://localhost:8080/"
        },
        "id": "NQCKdbK2U-D0",
        "outputId": "7a1a5e7e-b575-4cc4-b549-a47d08621f39"
      },
      "outputs": [
        {
          "name": "stdout",
          "output_type": "stream",
          "text": [
            "Epoch 1/25\n",
            "3/3 [==============================] - 1s 47ms/step - factorized_top_k/top_1_categorical_accuracy: 0.0000e+00 - factorized_top_k/top_5_categorical_accuracy: 0.0198 - factorized_top_k/top_10_categorical_accuracy: 0.0594 - factorized_top_k/top_50_categorical_accuracy: 0.1980 - factorized_top_k/top_100_categorical_accuracy: 0.3564 - loss: 97.7882 - regularization_loss: 0.0000e+00 - total_loss: 97.7882\n",
            "Epoch 2/25\n",
            "3/3 [==============================] - 0s 55ms/step - factorized_top_k/top_1_categorical_accuracy: 0.0000e+00 - factorized_top_k/top_5_categorical_accuracy: 0.4158 - factorized_top_k/top_10_categorical_accuracy: 0.5446 - factorized_top_k/top_50_categorical_accuracy: 0.8812 - factorized_top_k/top_100_categorical_accuracy: 0.9406 - loss: 97.1273 - regularization_loss: 0.0000e+00 - total_loss: 97.1273\n",
            "Epoch 3/25\n",
            "3/3 [==============================] - 0s 53ms/step - factorized_top_k/top_1_categorical_accuracy: 0.0000e+00 - factorized_top_k/top_5_categorical_accuracy: 0.4752 - factorized_top_k/top_10_categorical_accuracy: 0.6535 - factorized_top_k/top_50_categorical_accuracy: 0.9901 - factorized_top_k/top_100_categorical_accuracy: 1.0000 - loss: 94.8503 - regularization_loss: 0.0000e+00 - total_loss: 94.8503\n",
            "Epoch 4/25\n",
            "3/3 [==============================] - 0s 58ms/step - factorized_top_k/top_1_categorical_accuracy: 0.0000e+00 - factorized_top_k/top_5_categorical_accuracy: 0.5149 - factorized_top_k/top_10_categorical_accuracy: 0.6535 - factorized_top_k/top_50_categorical_accuracy: 0.9901 - factorized_top_k/top_100_categorical_accuracy: 0.9901 - loss: 89.1375 - regularization_loss: 0.0000e+00 - total_loss: 89.1375\n",
            "Epoch 5/25\n",
            "3/3 [==============================] - 0s 59ms/step - factorized_top_k/top_1_categorical_accuracy: 0.0495 - factorized_top_k/top_5_categorical_accuracy: 0.5248 - factorized_top_k/top_10_categorical_accuracy: 0.6535 - factorized_top_k/top_50_categorical_accuracy: 0.9901 - factorized_top_k/top_100_categorical_accuracy: 0.9901 - loss: 80.9792 - regularization_loss: 0.0000e+00 - total_loss: 80.9792\n",
            "Epoch 6/25\n",
            "3/3 [==============================] - 0s 51ms/step - factorized_top_k/top_1_categorical_accuracy: 0.0099 - factorized_top_k/top_5_categorical_accuracy: 0.5347 - factorized_top_k/top_10_categorical_accuracy: 0.7525 - factorized_top_k/top_50_categorical_accuracy: 0.9901 - factorized_top_k/top_100_categorical_accuracy: 0.9901 - loss: 72.9829 - regularization_loss: 0.0000e+00 - total_loss: 72.9829\n",
            "Epoch 7/25\n",
            "3/3 [==============================] - 0s 50ms/step - factorized_top_k/top_1_categorical_accuracy: 0.0594 - factorized_top_k/top_5_categorical_accuracy: 0.5644 - factorized_top_k/top_10_categorical_accuracy: 0.7921 - factorized_top_k/top_50_categorical_accuracy: 0.9901 - factorized_top_k/top_100_categorical_accuracy: 0.9901 - loss: 66.2587 - regularization_loss: 0.0000e+00 - total_loss: 66.2587\n",
            "Epoch 8/25\n",
            "3/3 [==============================] - 0s 50ms/step - factorized_top_k/top_1_categorical_accuracy: 0.0396 - factorized_top_k/top_5_categorical_accuracy: 0.5941 - factorized_top_k/top_10_categorical_accuracy: 0.7525 - factorized_top_k/top_50_categorical_accuracy: 0.9901 - factorized_top_k/top_100_categorical_accuracy: 0.9901 - loss: 60.3246 - regularization_loss: 0.0000e+00 - total_loss: 60.3246\n",
            "Epoch 9/25\n",
            "3/3 [==============================] - 0s 51ms/step - factorized_top_k/top_1_categorical_accuracy: 0.0693 - factorized_top_k/top_5_categorical_accuracy: 0.6040 - factorized_top_k/top_10_categorical_accuracy: 0.7921 - factorized_top_k/top_50_categorical_accuracy: 0.9901 - factorized_top_k/top_100_categorical_accuracy: 0.9901 - loss: 55.1604 - regularization_loss: 0.0000e+00 - total_loss: 55.1604\n",
            "Epoch 10/25\n",
            "3/3 [==============================] - 0s 56ms/step - factorized_top_k/top_1_categorical_accuracy: 0.0792 - factorized_top_k/top_5_categorical_accuracy: 0.6040 - factorized_top_k/top_10_categorical_accuracy: 0.7921 - factorized_top_k/top_50_categorical_accuracy: 0.9901 - factorized_top_k/top_100_categorical_accuracy: 0.9901 - loss: 50.9519 - regularization_loss: 0.0000e+00 - total_loss: 50.9519\n",
            "Epoch 11/25\n",
            "3/3 [==============================] - 0s 60ms/step - factorized_top_k/top_1_categorical_accuracy: 0.1089 - factorized_top_k/top_5_categorical_accuracy: 0.6040 - factorized_top_k/top_10_categorical_accuracy: 0.7921 - factorized_top_k/top_50_categorical_accuracy: 0.9901 - factorized_top_k/top_100_categorical_accuracy: 0.9901 - loss: 47.6992 - regularization_loss: 0.0000e+00 - total_loss: 47.6992\n",
            "Epoch 12/25\n",
            "3/3 [==============================] - 0s 52ms/step - factorized_top_k/top_1_categorical_accuracy: 0.0891 - factorized_top_k/top_5_categorical_accuracy: 0.6040 - factorized_top_k/top_10_categorical_accuracy: 0.7921 - factorized_top_k/top_50_categorical_accuracy: 0.9901 - factorized_top_k/top_100_categorical_accuracy: 0.9901 - loss: 45.2618 - regularization_loss: 0.0000e+00 - total_loss: 45.2618\n",
            "Epoch 13/25\n",
            "3/3 [==============================] - 0s 54ms/step - factorized_top_k/top_1_categorical_accuracy: 0.1089 - factorized_top_k/top_5_categorical_accuracy: 0.6040 - factorized_top_k/top_10_categorical_accuracy: 0.7921 - factorized_top_k/top_50_categorical_accuracy: 0.9901 - factorized_top_k/top_100_categorical_accuracy: 0.9901 - loss: 43.4428 - regularization_loss: 0.0000e+00 - total_loss: 43.4428\n",
            "Epoch 14/25\n",
            "3/3 [==============================] - 0s 50ms/step - factorized_top_k/top_1_categorical_accuracy: 0.0792 - factorized_top_k/top_5_categorical_accuracy: 0.6040 - factorized_top_k/top_10_categorical_accuracy: 0.7921 - factorized_top_k/top_50_categorical_accuracy: 0.9901 - factorized_top_k/top_100_categorical_accuracy: 0.9901 - loss: 42.0838 - regularization_loss: 0.0000e+00 - total_loss: 42.0838\n",
            "Epoch 15/25\n",
            "3/3 [==============================] - 0s 50ms/step - factorized_top_k/top_1_categorical_accuracy: 0.0990 - factorized_top_k/top_5_categorical_accuracy: 0.6040 - factorized_top_k/top_10_categorical_accuracy: 0.7921 - factorized_top_k/top_50_categorical_accuracy: 0.9901 - factorized_top_k/top_100_categorical_accuracy: 0.9901 - loss: 41.0188 - regularization_loss: 0.0000e+00 - total_loss: 41.0188\n",
            "Epoch 16/25\n",
            "3/3 [==============================] - 0s 52ms/step - factorized_top_k/top_1_categorical_accuracy: 0.0594 - factorized_top_k/top_5_categorical_accuracy: 0.6040 - factorized_top_k/top_10_categorical_accuracy: 0.7723 - factorized_top_k/top_50_categorical_accuracy: 0.9901 - factorized_top_k/top_100_categorical_accuracy: 0.9901 - loss: 40.1294 - regularization_loss: 0.0000e+00 - total_loss: 40.1294\n",
            "Epoch 17/25\n",
            "3/3 [==============================] - 0s 61ms/step - factorized_top_k/top_1_categorical_accuracy: 0.0792 - factorized_top_k/top_5_categorical_accuracy: 0.6040 - factorized_top_k/top_10_categorical_accuracy: 0.7921 - factorized_top_k/top_50_categorical_accuracy: 0.9901 - factorized_top_k/top_100_categorical_accuracy: 0.9901 - loss: 39.4916 - regularization_loss: 0.0000e+00 - total_loss: 39.4916\n",
            "Epoch 18/25\n",
            "3/3 [==============================] - 0s 49ms/step - factorized_top_k/top_1_categorical_accuracy: 0.0594 - factorized_top_k/top_5_categorical_accuracy: 0.6040 - factorized_top_k/top_10_categorical_accuracy: 0.7822 - factorized_top_k/top_50_categorical_accuracy: 0.9901 - factorized_top_k/top_100_categorical_accuracy: 0.9901 - loss: 39.0253 - regularization_loss: 0.0000e+00 - total_loss: 39.0253\n",
            "Epoch 19/25\n",
            "3/3 [==============================] - 0s 49ms/step - factorized_top_k/top_1_categorical_accuracy: 0.0594 - factorized_top_k/top_5_categorical_accuracy: 0.6238 - factorized_top_k/top_10_categorical_accuracy: 0.7921 - factorized_top_k/top_50_categorical_accuracy: 0.9901 - factorized_top_k/top_100_categorical_accuracy: 0.9901 - loss: 38.6884 - regularization_loss: 0.0000e+00 - total_loss: 38.6884\n",
            "Epoch 20/25\n",
            "3/3 [==============================] - 0s 56ms/step - factorized_top_k/top_1_categorical_accuracy: 0.0297 - factorized_top_k/top_5_categorical_accuracy: 0.6337 - factorized_top_k/top_10_categorical_accuracy: 0.8317 - factorized_top_k/top_50_categorical_accuracy: 0.9901 - factorized_top_k/top_100_categorical_accuracy: 0.9901 - loss: 38.4271 - regularization_loss: 0.0000e+00 - total_loss: 38.4271\n",
            "Epoch 21/25\n",
            "3/3 [==============================] - 0s 50ms/step - factorized_top_k/top_1_categorical_accuracy: 0.0693 - factorized_top_k/top_5_categorical_accuracy: 0.6238 - factorized_top_k/top_10_categorical_accuracy: 0.8317 - factorized_top_k/top_50_categorical_accuracy: 0.9901 - factorized_top_k/top_100_categorical_accuracy: 0.9901 - loss: 38.2328 - regularization_loss: 0.0000e+00 - total_loss: 38.2328\n",
            "Epoch 22/25\n",
            "3/3 [==============================] - 0s 54ms/step - factorized_top_k/top_1_categorical_accuracy: 0.0495 - factorized_top_k/top_5_categorical_accuracy: 0.6535 - factorized_top_k/top_10_categorical_accuracy: 0.8317 - factorized_top_k/top_50_categorical_accuracy: 0.9901 - factorized_top_k/top_100_categorical_accuracy: 0.9901 - loss: 38.0811 - regularization_loss: 0.0000e+00 - total_loss: 38.0811\n",
            "Epoch 23/25\n",
            "3/3 [==============================] - 0s 69ms/step - factorized_top_k/top_1_categorical_accuracy: 0.0693 - factorized_top_k/top_5_categorical_accuracy: 0.6238 - factorized_top_k/top_10_categorical_accuracy: 0.8317 - factorized_top_k/top_50_categorical_accuracy: 0.9901 - factorized_top_k/top_100_categorical_accuracy: 0.9901 - loss: 37.9645 - regularization_loss: 0.0000e+00 - total_loss: 37.9645\n",
            "Epoch 24/25\n",
            "3/3 [==============================] - 0s 57ms/step - factorized_top_k/top_1_categorical_accuracy: 0.0594 - factorized_top_k/top_5_categorical_accuracy: 0.6733 - factorized_top_k/top_10_categorical_accuracy: 0.8614 - factorized_top_k/top_50_categorical_accuracy: 0.9901 - factorized_top_k/top_100_categorical_accuracy: 0.9901 - loss: 37.8695 - regularization_loss: 0.0000e+00 - total_loss: 37.8695\n",
            "Epoch 25/25\n",
            "3/3 [==============================] - 0s 72ms/step - factorized_top_k/top_1_categorical_accuracy: 0.0792 - factorized_top_k/top_5_categorical_accuracy: 0.6535 - factorized_top_k/top_10_categorical_accuracy: 0.8317 - factorized_top_k/top_50_categorical_accuracy: 0.9901 - factorized_top_k/top_100_categorical_accuracy: 0.9901 - loss: 37.7668 - regularization_loss: 0.0000e+00 - total_loss: 37.7668\n"
          ]
        },
        {
          "data": {
            "text/plain": [
              "<keras.callbacks.History at 0x1d8a7a9f250>"
            ]
          },
          "execution_count": 17,
          "metadata": {},
          "output_type": "execute_result"
        }
      ],
      "source": [
        "model.fit(cached_train, epochs=25)"
      ]
    },
    {
      "cell_type": "code",
      "execution_count": 18,
      "metadata": {
        "colab": {
          "base_uri": "https://localhost:8080/"
        },
        "id": "2JOiSBJGU-D0",
        "outputId": "75cf5b7a-57bd-4b5d-f598-c8b4478dd431"
      },
      "outputs": [
        {
          "name": "stdout",
          "output_type": "stream",
          "text": [
            "26/26 [==============================] - 1s 45ms/step - factorized_top_k/top_1_categorical_accuracy: 0.2376 - factorized_top_k/top_5_categorical_accuracy: 0.6436 - factorized_top_k/top_10_categorical_accuracy: 0.8812 - factorized_top_k/top_50_categorical_accuracy: 0.9901 - factorized_top_k/top_100_categorical_accuracy: 0.9901 - loss: 1.0990 - regularization_loss: 0.0000e+00 - total_loss: 1.0990\n"
          ]
        },
        {
          "data": {
            "text/plain": [
              "{'factorized_top_k/top_1_categorical_accuracy': 0.23762376606464386,\n",
              " 'factorized_top_k/top_5_categorical_accuracy': 0.6435643434524536,\n",
              " 'factorized_top_k/top_10_categorical_accuracy': 0.8811880946159363,\n",
              " 'factorized_top_k/top_50_categorical_accuracy': 0.9900990128517151,\n",
              " 'factorized_top_k/top_100_categorical_accuracy': 0.9900990128517151,\n",
              " 'loss': 0.0,\n",
              " 'regularization_loss': 0,\n",
              " 'total_loss': 0.0}"
            ]
          },
          "execution_count": 18,
          "metadata": {},
          "output_type": "execute_result"
        }
      ],
      "source": [
        "model.evaluate(cached_test, return_dict=True)"
      ]
    },
    {
      "cell_type": "markdown",
      "metadata": {},
      "source": [
        "Create a bruteforce layer to make prediction"
      ]
    },
    {
      "cell_type": "code",
      "execution_count": 19,
      "metadata": {
        "colab": {
          "base_uri": "https://localhost:8080/"
        },
        "id": "K6x_jKabU-D1",
        "outputId": "6ac667cf-9b0c-4dee-c1dc-98eb9adf95f1"
      },
      "outputs": [
        {
          "data": {
            "text/plain": [
              "<tensorflow_recommenders.layers.factorized_top_k.BruteForce at 0x1d8a879e7a0>"
            ]
          },
          "execution_count": 19,
          "metadata": {},
          "output_type": "execute_result"
        }
      ],
      "source": [
        "# Create a model that takes in raw query features, and\n",
        "index = tfrs.layers.factorized_top_k.BruteForce(model.user_model)\n",
        "# recommends movies out of the entire movies dataset.\n",
        "index.index_from_dataset(\n",
        "  foods_ds.batch(20).map(lambda  name: (name, model.query_model(name)))\n",
        ")"
      ]
    },
    {
      "cell_type": "code",
      "execution_count": 31,
      "metadata": {
        "colab": {
          "base_uri": "https://localhost:8080/"
        },
        "id": "0jAr24SEU-D1",
        "outputId": "4f289d05-db1d-4916-ad4f-499f4d138436"
      },
      "outputs": [
        {
          "name": "stdout",
          "output_type": "stream",
          "text": [
            "Top 5 recommendation for user: [b'gluten-free christmas cake' b'andhra pan fried pomfret'\n",
            " b'spinach and feta crepes' b'fried rice with soya chunks'\n",
            " b'baked namakpara with roasted almond dip'\n",
            " b'saewoo bokumbop (shrimp fried rice)' b'summer squash salad'\n",
            " b'grilled almond barfi (sugar free)'\n",
            " b'cajun spiced turkey wrapped with bacon' b'spicy chicken masala']\n"
          ]
        }
      ],
      "source": [
        "_, diets = index(np.array([\"kidney_disease\"]))\n",
        "print(f\"Top 5 recommendation for user: {diets[0, :10]}\")"
      ]
    }
  ],
  "metadata": {
    "colab": {
      "name": "rec system test.ipynb",
      "provenance": []
    },
    "interpreter": {
      "hash": "c3cb1dd373ca4450157e6f8978f97933cc3a7cdc0a8066204e60afd9526c388d"
    },
    "kernelspec": {
      "display_name": "Python 3.10.2 64-bit",
      "language": "python",
      "name": "python3"
    },
    "language_info": {
      "codemirror_mode": {
        "name": "ipython",
        "version": 3
      },
      "file_extension": ".py",
      "mimetype": "text/x-python",
      "name": "python",
      "nbconvert_exporter": "python",
      "pygments_lexer": "ipython3",
      "version": "3.10.2"
    },
    "orig_nbformat": 4
  },
  "nbformat": 4,
  "nbformat_minor": 0
}
