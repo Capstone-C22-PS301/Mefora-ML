{
  "cells": [
    {
      "cell_type": "markdown",
      "metadata": {
        "id": "KzybRRW3WScG"
      },
      "source": [
        "# Introduction: Run file ini di google colab soalnya masih belom ngerti kalo deploy di vs code gimana"
      ]
    },
    {
      "cell_type": "code",
      "execution_count": null,
      "metadata": {
        "id": "lN4APqfE_ZnA"
      },
      "outputs": [],
      "source": [
        "!echo \"deb http://storage.googleapis.com/tensorflow-serving-apt stable tensorflow-model-server tensorflow-model-server-universal\" | tee /etc/apt/sources.list.d/tensorflow-serving.list && \\\n",
        "curl https://storage.googleapis.com/tensorflow-serving-apt/tensorflow-serving.release.pub.gpg | apt-key add -\n",
        "!apt update"
      ]
    },
    {
      "cell_type": "code",
      "execution_count": null,
      "metadata": {
        "id": "F9Djs87AkEwd"
      },
      "outputs": [],
      "source": [
        "!pip install -q tensorflow-recommenders\n",
        "!pip install -q --upgrade tensorflow-datasets\n",
        "!pip install -q scann\n",
        "!apt-get install tensorflow-model-server"
      ]
    },
    {
      "cell_type": "code",
      "execution_count": 1,
      "metadata": {
        "id": "0E1Ql9xskDTs"
      },
      "outputs": [],
      "source": [
        "import numpy as np\n",
        "import pandas as pd\n",
        "import tensorflow as tf\n",
        "import matplotlib.pyplot as plt\n",
        "import seaborn as sns\n",
        "from typing import Dict, Text\n",
        "import os\n",
        "import requests\n",
        "import json\n",
        "import tempfile\n",
        "\n",
        "import tensorflow_recommenders as tfrs\n",
        "import tensorflow_datasets as tfds"
      ]
    },
    {
      "cell_type": "markdown",
      "metadata": {
        "id": "7_B8azxXTHiQ"
      },
      "source": [
        "# Load Data dan Dirubah jadi tf tensor\n",
        "\n",
        "- Load data pake read csv terus diubah ke tensor pake from tensor slices\n",
        "- Split training dan validation set 80:20\n",
        "- Mengambil nama unik penyakit, user id, dan makanan"
      ]
    },
    {
      "cell_type": "code",
      "execution_count": 2,
      "metadata": {
        "id": "faq0t8qskDTx"
      },
      "outputs": [],
      "source": [
        "user_profile_df = pd.read_csv('dataset\\\\user_activities.csv')\n",
        "foods_df = pd.read_csv('dataset\\\\dataset.csv')\n",
        "user_profile_df = user_profile_df[['User_Id','Disease','food_name']]\n",
        "foods_df = foods_df.drop(['description','Price'],axis=1)\n",
        "user_profile_ds = tf.data.Dataset.from_tensor_slices(dict(user_profile_df))\n",
        "foods_ds = tf.data.Dataset.from_tensor_slices(dict(foods_df))"
      ]
    },
    {
      "cell_type": "code",
      "execution_count": 3,
      "metadata": {
        "id": "O86L-Lf-kDTz"
      },
      "outputs": [],
      "source": [
        "foods_ds = foods_ds.map(lambda x: x[\"Name\"])"
      ]
    },
    {
      "cell_type": "code",
      "execution_count": 4,
      "metadata": {
        "id": "ZgHe-YsWkDT0"
      },
      "outputs": [],
      "source": [
        "tf.random.set_seed(42)\n",
        "shuffled = user_profile_ds.shuffle(100_000, seed=42, reshuffle_each_iteration=False)\n",
        "\n",
        "train = shuffled.take(80_000)\n",
        "test = shuffled.take(20_000)"
      ]
    },
    {
      "cell_type": "code",
      "execution_count": null,
      "metadata": {
        "id": "9pRLyp15kDT1"
      },
      "outputs": [],
      "source": [
        "food_names = foods_ds.batch(20)\n",
        "user_names = user_profile_ds.batch(20).map(lambda x: x['User_Id'])\n",
        "disease_names = user_profile_ds.batch(20).map(lambda x: x['Disease'])\n",
        "#for tensor in list(disease_names):\n",
        "    #print(tensor)\n",
        "unique_food_names = np.unique(np.concatenate(list(food_names)))\n",
        "unique_user_names = np.unique(np.concatenate(list(user_names)))\n",
        "unique_disease_names = np.unique(np.concatenate(list(disease_names)))\n",
        "\n",
        "unique_user_names[:100]"
      ]
    },
    {
      "cell_type": "markdown",
      "metadata": {
        "id": "5N2NFRvHUJ-A"
      },
      "source": [
        "# Membuat Model\n",
        "\n",
        "- Membuat user model yang mengambil input user id dan penyakit\n",
        "- Membuat food model yang mengambil input makanan\n",
        "- Membuat kelas query model yang akan menampung user model dan menambahkan hidden layer\n",
        "- Membuat candidate model yang akan menampung food model dan menambahkan hidden layer\n",
        "- Membuat kelas foodrecmodel untuk menggambungkan kedua model "
      ]
    },
    {
      "cell_type": "code",
      "execution_count": 6,
      "metadata": {
        "id": "ZsEzXZOWkDT5"
      },
      "outputs": [],
      "source": [
        "embedding_dimension = 32"
      ]
    },
    {
      "cell_type": "code",
      "execution_count": 7,
      "metadata": {
        "id": "KZ-gih3KkDT6"
      },
      "outputs": [],
      "source": [
        "class UserModel(tf.keras.Model):\n",
        "    def __init__(self):\n",
        "        super().__init__()\n",
        "\n",
        "        max_tokens = 1000\n",
        "        self.user_embedding = tf.keras.Sequential([\n",
        "         tf.keras.layers.StringLookup(vocabulary= unique_user_names, mask_token=None),\n",
        "         tf.keras.layers.Embedding(len(unique_user_names)+1, embedding_dimension)\n",
        "    ])\n",
        "        self.disease_embedding = tf.keras.Sequential([\n",
        "         tf.keras.layers.StringLookup(vocabulary= unique_disease_names, mask_token=None),\n",
        "         tf.keras.layers.Embedding(len(unique_disease_names)+1, embedding_dimension)\n",
        "        ])\n",
        "        self.disease_vector = tf.keras.layers.TextVectorization(max_tokens=max_tokens)\n",
        "\n",
        "        self.disease_text_embedding = tf.keras.Sequential([\n",
        "         self.disease_vector,\n",
        "         tf.keras.layers.Embedding(max_tokens, 32, mask_zero=True),\n",
        "      # We average the embedding of individual words to get one embedding vector\n",
        "      # per title.\n",
        "         tf.keras.layers.GlobalAveragePooling1D()\n",
        "    ])\n",
        "        self.disease_vector.adapt(user_profile_ds.map(lambda x: x['Disease']))\n",
        "\n",
        "    def call(self, inputs):\n",
        "        return tf.concat([\n",
        "            self.user_embedding(inputs['User_Id']),\n",
        "            self.disease_embedding(inputs['Disease']),\n",
        "            self.disease_text_embedding(inputs['Disease']),\n",
        "        ], axis=1)"
      ]
    },
    {
      "cell_type": "code",
      "execution_count": 8,
      "metadata": {
        "id": "GmWHbhNTkDT8"
      },
      "outputs": [],
      "source": [
        "class FoodModel(tf.keras.Model):\n",
        "    def __init__(self):\n",
        "        super().__init__()\n",
        "\n",
        "        max_tokens = 1000\n",
        "        self.food_embedding = tf.keras.Sequential([\n",
        "         tf.keras.layers.StringLookup(vocabulary= unique_food_names, mask_token=None),\n",
        "         tf.keras.layers.Embedding(len(unique_food_names)+1, embedding_dimension)\n",
        "    ])\n",
        "        '''self.disease_embedding = tf.keras.Sequential([\n",
        "         tf.keras.layers.TextVectorization(max_tokens=max_tokens),\n",
        "         tf.keras.layers.Embedding(max_tokens, 32, mask_zero=True),\n",
        "      # We average the embedding of individual words to get one embedding vector\n",
        "      # per title.\n",
        "         tf.keras.layers.GlobalAveragePooling1D()\n",
        "    ])'''\n",
        "\n",
        "    def call(self, titles):\n",
        "        return tf.concat([\n",
        "            self.food_embedding(titles),\n",
        "            #self.disease_embedding(inputs['Disease']),\n",
        "        ], axis=1)"
      ]
    },
    {
      "cell_type": "code",
      "execution_count": 9,
      "metadata": {
        "id": "DhDIiqe4kDT-"
      },
      "outputs": [],
      "source": [
        "class QueryModel(tf.keras.Model):\n",
        "    def __init__(self, layer_sizes):\n",
        "        super().__init__()\n",
        "\n",
        "        self.embedding_model= UserModel()\n",
        "\n",
        "        self.dense_layers = tf.keras.Sequential()\n",
        "\n",
        "        for layer_size in layer_sizes[:-1]:\n",
        "            self.dense_layers.add(tf.keras.layers.Dense(layer_size, activation=\"relu\"))\n",
        "\n",
        "    # No activation for the last layer.\n",
        "        for layer_size in layer_sizes[-1:]:\n",
        "            self.dense_layers.add(tf.keras.layers.Dense(layer_size))\n",
        "\n",
        "    def call(self, inputs):\n",
        "        feature_embedding = self.embedding_model(inputs)\n",
        "        return self.dense_layers(feature_embedding)"
      ]
    },
    {
      "cell_type": "code",
      "execution_count": 10,
      "metadata": {
        "id": "ZFU_ym2JkDUA"
      },
      "outputs": [],
      "source": [
        "class CandidateModel(tf.keras.Model):\n",
        "    def __init__(self, layer_sizes):\n",
        "        super().__init__()\n",
        "\n",
        "        self.embedding_model = FoodModel()\n",
        "        self.dense_layers = tf.keras.Sequential()\n",
        "        for layer_size in layer_sizes[:-1]:\n",
        "            self.dense_layers.add(tf.keras.layers.Dense(layer_size, activation=\"relu\"))\n",
        "\n",
        "    # No activation for the last layer.\n",
        "        for layer_size in layer_sizes[-1:]:\n",
        "            self.dense_layers.add(tf.keras.layers.Dense(layer_size))\n",
        "\n",
        "    def call(self, titles):\n",
        "        feature_embedding = self.embedding_model(titles)\n",
        "        return self.dense_layers(feature_embedding)"
      ]
    },
    {
      "cell_type": "code",
      "execution_count": 11,
      "metadata": {
        "id": "P8xYkz02kDUB"
      },
      "outputs": [],
      "source": [
        "class FoodRecModel(tfrs.models.Model):\n",
        "    def __init__(self, layer_sizes):\n",
        "        super().__init__()\n",
        "        self.query_model = QueryModel(layer_sizes)\n",
        "        self.candidate_model = CandidateModel(layer_sizes)\n",
        "        self.task = tfrs.tasks.Retrieval(\n",
        "            metrics=tfrs.metrics.FactorizedTopK(\n",
        "                candidates=foods_ds.batch(20).map(self.candidate_model),\n",
        "            ),\n",
        "        )\n",
        "    \n",
        "    def compute_loss(self, features, training=False):\n",
        "        query_embeddings = self.query_model({\n",
        "            \"User_Id\": features['User_Id'],\n",
        "            \"Disease\": features['Disease'],\n",
        "        })\n",
        "        food_embeddings = self.candidate_model(features['food_name'])\n",
        "\n",
        "        return self.task(query_embeddings, food_embeddings, compute_metrics=not training)"
      ]
    },
    {
      "cell_type": "markdown",
      "metadata": {
        "id": "mcx-WmQbVF7I"
      },
      "source": [
        "# Training Model\n",
        "\n",
        "- Membuat perbandingan model dengan satu layer dan dua layer"
      ]
    },
    {
      "cell_type": "code",
      "execution_count": 12,
      "metadata": {
        "id": "3VP5_ngDkDUD"
      },
      "outputs": [],
      "source": [
        "cached_train = train.shuffle(100_000).batch(5).cache()\n",
        "cached_test = test.batch(5).cache()"
      ]
    },
    {
      "cell_type": "code",
      "execution_count": 13,
      "metadata": {
        "id": "ctWC6jiZkDUE"
      },
      "outputs": [],
      "source": [
        "num_epochs = 25\n",
        "\n",
        "model = FoodRecModel([32])\n",
        "model.compile(optimizer=tf.keras.optimizers.Adagrad(0.2))"
      ]
    },
    {
      "cell_type": "code",
      "execution_count": 14,
      "metadata": {
        "colab": {
          "base_uri": "https://localhost:8080/"
        },
        "id": "OlWbV173kDUF",
        "outputId": "94829157-3533-4707-d95c-696996a6378f"
      },
      "outputs": [
        {
          "name": "stdout",
          "output_type": "stream",
          "text": [
            "Epoch 1/25\n",
            "21/21 [==============================] - 2s 6ms/step - factorized_top_k/top_1_categorical_accuracy: 0.0000e+00 - factorized_top_k/top_5_categorical_accuracy: 0.0000e+00 - factorized_top_k/top_10_categorical_accuracy: 0.0000e+00 - factorized_top_k/top_50_categorical_accuracy: 0.0000e+00 - factorized_top_k/top_100_categorical_accuracy: 0.0000e+00 - loss: 7.2158 - regularization_loss: 0.0000e+00 - total_loss: 7.2158\n",
            "Epoch 2/25\n",
            "21/21 [==============================] - 0s 6ms/step - factorized_top_k/top_1_categorical_accuracy: 0.0000e+00 - factorized_top_k/top_5_categorical_accuracy: 0.0000e+00 - factorized_top_k/top_10_categorical_accuracy: 0.0000e+00 - factorized_top_k/top_50_categorical_accuracy: 0.0000e+00 - factorized_top_k/top_100_categorical_accuracy: 0.0000e+00 - loss: 6.5471 - regularization_loss: 0.0000e+00 - total_loss: 6.5471\n",
            "Epoch 3/25\n",
            "21/21 [==============================] - 0s 7ms/step - factorized_top_k/top_1_categorical_accuracy: 0.0000e+00 - factorized_top_k/top_5_categorical_accuracy: 0.0000e+00 - factorized_top_k/top_10_categorical_accuracy: 0.0000e+00 - factorized_top_k/top_50_categorical_accuracy: 0.0000e+00 - factorized_top_k/top_100_categorical_accuracy: 0.0000e+00 - loss: 9.3911 - regularization_loss: 0.0000e+00 - total_loss: 9.3911\n",
            "Epoch 4/25\n",
            "21/21 [==============================] - 0s 8ms/step - factorized_top_k/top_1_categorical_accuracy: 0.0000e+00 - factorized_top_k/top_5_categorical_accuracy: 0.0000e+00 - factorized_top_k/top_10_categorical_accuracy: 0.0000e+00 - factorized_top_k/top_50_categorical_accuracy: 0.0000e+00 - factorized_top_k/top_100_categorical_accuracy: 0.0000e+00 - loss: 10.5546 - regularization_loss: 0.0000e+00 - total_loss: 10.5546\n",
            "Epoch 5/25\n",
            "21/21 [==============================] - 4s 177ms/step - factorized_top_k/top_1_categorical_accuracy: 0.0000e+00 - factorized_top_k/top_5_categorical_accuracy: 0.0000e+00 - factorized_top_k/top_10_categorical_accuracy: 0.0000e+00 - factorized_top_k/top_50_categorical_accuracy: 0.0000e+00 - factorized_top_k/top_100_categorical_accuracy: 0.0000e+00 - loss: 5.7407 - regularization_loss: 0.0000e+00 - total_loss: 5.7407 - val_factorized_top_k/top_1_categorical_accuracy: 0.1386 - val_factorized_top_k/top_5_categorical_accuracy: 0.4653 - val_factorized_top_k/top_10_categorical_accuracy: 0.6436 - val_factorized_top_k/top_50_categorical_accuracy: 0.9307 - val_factorized_top_k/top_100_categorical_accuracy: 0.9307 - val_loss: 0.0000e+00 - val_regularization_loss: 0.0000e+00 - val_total_loss: 0.0000e+00\n",
            "Epoch 6/25\n",
            "21/21 [==============================] - 0s 3ms/step - factorized_top_k/top_1_categorical_accuracy: 0.0000e+00 - factorized_top_k/top_5_categorical_accuracy: 0.0000e+00 - factorized_top_k/top_10_categorical_accuracy: 0.0000e+00 - factorized_top_k/top_50_categorical_accuracy: 0.0000e+00 - factorized_top_k/top_100_categorical_accuracy: 0.0000e+00 - loss: 3.6809 - regularization_loss: 0.0000e+00 - total_loss: 3.6809\n",
            "Epoch 7/25\n",
            "21/21 [==============================] - 0s 4ms/step - factorized_top_k/top_1_categorical_accuracy: 0.0000e+00 - factorized_top_k/top_5_categorical_accuracy: 0.0000e+00 - factorized_top_k/top_10_categorical_accuracy: 0.0000e+00 - factorized_top_k/top_50_categorical_accuracy: 0.0000e+00 - factorized_top_k/top_100_categorical_accuracy: 0.0000e+00 - loss: 1.2308 - regularization_loss: 0.0000e+00 - total_loss: 1.2308\n",
            "Epoch 8/25\n",
            "21/21 [==============================] - 0s 4ms/step - factorized_top_k/top_1_categorical_accuracy: 0.0000e+00 - factorized_top_k/top_5_categorical_accuracy: 0.0000e+00 - factorized_top_k/top_10_categorical_accuracy: 0.0000e+00 - factorized_top_k/top_50_categorical_accuracy: 0.0000e+00 - factorized_top_k/top_100_categorical_accuracy: 0.0000e+00 - loss: 1.1840 - regularization_loss: 0.0000e+00 - total_loss: 1.1840\n",
            "Epoch 9/25\n",
            "21/21 [==============================] - 0s 4ms/step - factorized_top_k/top_1_categorical_accuracy: 0.0000e+00 - factorized_top_k/top_5_categorical_accuracy: 0.0000e+00 - factorized_top_k/top_10_categorical_accuracy: 0.0000e+00 - factorized_top_k/top_50_categorical_accuracy: 0.0000e+00 - factorized_top_k/top_100_categorical_accuracy: 0.0000e+00 - loss: 0.5978 - regularization_loss: 0.0000e+00 - total_loss: 0.5978\n",
            "Epoch 10/25\n",
            "21/21 [==============================] - 2s 121ms/step - factorized_top_k/top_1_categorical_accuracy: 0.0000e+00 - factorized_top_k/top_5_categorical_accuracy: 0.0000e+00 - factorized_top_k/top_10_categorical_accuracy: 0.0000e+00 - factorized_top_k/top_50_categorical_accuracy: 0.0000e+00 - factorized_top_k/top_100_categorical_accuracy: 0.0000e+00 - loss: 0.4001 - regularization_loss: 0.0000e+00 - total_loss: 0.4001 - val_factorized_top_k/top_1_categorical_accuracy: 0.1980 - val_factorized_top_k/top_5_categorical_accuracy: 0.6733 - val_factorized_top_k/top_10_categorical_accuracy: 0.9109 - val_factorized_top_k/top_50_categorical_accuracy: 0.9901 - val_factorized_top_k/top_100_categorical_accuracy: 0.9901 - val_loss: 0.0000e+00 - val_regularization_loss: 0.0000e+00 - val_total_loss: 0.0000e+00\n",
            "Epoch 11/25\n",
            "21/21 [==============================] - 0s 3ms/step - factorized_top_k/top_1_categorical_accuracy: 0.0000e+00 - factorized_top_k/top_5_categorical_accuracy: 0.0000e+00 - factorized_top_k/top_10_categorical_accuracy: 0.0000e+00 - factorized_top_k/top_50_categorical_accuracy: 0.0000e+00 - factorized_top_k/top_100_categorical_accuracy: 0.0000e+00 - loss: 0.3216 - regularization_loss: 0.0000e+00 - total_loss: 0.3216\n",
            "Epoch 12/25\n",
            "21/21 [==============================] - 0s 5ms/step - factorized_top_k/top_1_categorical_accuracy: 0.0000e+00 - factorized_top_k/top_5_categorical_accuracy: 0.0000e+00 - factorized_top_k/top_10_categorical_accuracy: 0.0000e+00 - factorized_top_k/top_50_categorical_accuracy: 0.0000e+00 - factorized_top_k/top_100_categorical_accuracy: 0.0000e+00 - loss: 0.2850 - regularization_loss: 0.0000e+00 - total_loss: 0.2850\n",
            "Epoch 13/25\n",
            "21/21 [==============================] - 0s 4ms/step - factorized_top_k/top_1_categorical_accuracy: 0.0000e+00 - factorized_top_k/top_5_categorical_accuracy: 0.0000e+00 - factorized_top_k/top_10_categorical_accuracy: 0.0000e+00 - factorized_top_k/top_50_categorical_accuracy: 0.0000e+00 - factorized_top_k/top_100_categorical_accuracy: 0.0000e+00 - loss: 0.2761 - regularization_loss: 0.0000e+00 - total_loss: 0.2761\n",
            "Epoch 14/25\n",
            "21/21 [==============================] - 0s 4ms/step - factorized_top_k/top_1_categorical_accuracy: 0.0000e+00 - factorized_top_k/top_5_categorical_accuracy: 0.0000e+00 - factorized_top_k/top_10_categorical_accuracy: 0.0000e+00 - factorized_top_k/top_50_categorical_accuracy: 0.0000e+00 - factorized_top_k/top_100_categorical_accuracy: 0.0000e+00 - loss: 0.2711 - regularization_loss: 0.0000e+00 - total_loss: 0.2711\n",
            "Epoch 15/25\n",
            "21/21 [==============================] - 2s 121ms/step - factorized_top_k/top_1_categorical_accuracy: 0.0000e+00 - factorized_top_k/top_5_categorical_accuracy: 0.0000e+00 - factorized_top_k/top_10_categorical_accuracy: 0.0000e+00 - factorized_top_k/top_50_categorical_accuracy: 0.0000e+00 - factorized_top_k/top_100_categorical_accuracy: 0.0000e+00 - loss: 0.2691 - regularization_loss: 0.0000e+00 - total_loss: 0.2691 - val_factorized_top_k/top_1_categorical_accuracy: 0.2079 - val_factorized_top_k/top_5_categorical_accuracy: 0.6931 - val_factorized_top_k/top_10_categorical_accuracy: 0.9406 - val_factorized_top_k/top_50_categorical_accuracy: 0.9901 - val_factorized_top_k/top_100_categorical_accuracy: 0.9901 - val_loss: 0.0000e+00 - val_regularization_loss: 0.0000e+00 - val_total_loss: 0.0000e+00\n",
            "Epoch 16/25\n",
            "21/21 [==============================] - 0s 3ms/step - factorized_top_k/top_1_categorical_accuracy: 0.0000e+00 - factorized_top_k/top_5_categorical_accuracy: 0.0000e+00 - factorized_top_k/top_10_categorical_accuracy: 0.0000e+00 - factorized_top_k/top_50_categorical_accuracy: 0.0000e+00 - factorized_top_k/top_100_categorical_accuracy: 0.0000e+00 - loss: 0.2678 - regularization_loss: 0.0000e+00 - total_loss: 0.2678\n",
            "Epoch 17/25\n",
            "21/21 [==============================] - 0s 4ms/step - factorized_top_k/top_1_categorical_accuracy: 0.0000e+00 - factorized_top_k/top_5_categorical_accuracy: 0.0000e+00 - factorized_top_k/top_10_categorical_accuracy: 0.0000e+00 - factorized_top_k/top_50_categorical_accuracy: 0.0000e+00 - factorized_top_k/top_100_categorical_accuracy: 0.0000e+00 - loss: 0.2675 - regularization_loss: 0.0000e+00 - total_loss: 0.2675\n",
            "Epoch 18/25\n",
            "21/21 [==============================] - 0s 4ms/step - factorized_top_k/top_1_categorical_accuracy: 0.0000e+00 - factorized_top_k/top_5_categorical_accuracy: 0.0000e+00 - factorized_top_k/top_10_categorical_accuracy: 0.0000e+00 - factorized_top_k/top_50_categorical_accuracy: 0.0000e+00 - factorized_top_k/top_100_categorical_accuracy: 0.0000e+00 - loss: 0.2675 - regularization_loss: 0.0000e+00 - total_loss: 0.2675\n",
            "Epoch 19/25\n",
            "21/21 [==============================] - 0s 4ms/step - factorized_top_k/top_1_categorical_accuracy: 0.0000e+00 - factorized_top_k/top_5_categorical_accuracy: 0.0000e+00 - factorized_top_k/top_10_categorical_accuracy: 0.0000e+00 - factorized_top_k/top_50_categorical_accuracy: 0.0000e+00 - factorized_top_k/top_100_categorical_accuracy: 0.0000e+00 - loss: 0.2676 - regularization_loss: 0.0000e+00 - total_loss: 0.2676\n",
            "Epoch 20/25\n",
            "21/21 [==============================] - 2s 107ms/step - factorized_top_k/top_1_categorical_accuracy: 0.0000e+00 - factorized_top_k/top_5_categorical_accuracy: 0.0000e+00 - factorized_top_k/top_10_categorical_accuracy: 0.0000e+00 - factorized_top_k/top_50_categorical_accuracy: 0.0000e+00 - factorized_top_k/top_100_categorical_accuracy: 0.0000e+00 - loss: 0.2678 - regularization_loss: 0.0000e+00 - total_loss: 0.2678 - val_factorized_top_k/top_1_categorical_accuracy: 0.2079 - val_factorized_top_k/top_5_categorical_accuracy: 0.6931 - val_factorized_top_k/top_10_categorical_accuracy: 0.9505 - val_factorized_top_k/top_50_categorical_accuracy: 0.9901 - val_factorized_top_k/top_100_categorical_accuracy: 0.9901 - val_loss: 0.0000e+00 - val_regularization_loss: 0.0000e+00 - val_total_loss: 0.0000e+00\n",
            "Epoch 21/25\n",
            "21/21 [==============================] - 0s 4ms/step - factorized_top_k/top_1_categorical_accuracy: 0.0000e+00 - factorized_top_k/top_5_categorical_accuracy: 0.0000e+00 - factorized_top_k/top_10_categorical_accuracy: 0.0000e+00 - factorized_top_k/top_50_categorical_accuracy: 0.0000e+00 - factorized_top_k/top_100_categorical_accuracy: 0.0000e+00 - loss: 0.2681 - regularization_loss: 0.0000e+00 - total_loss: 0.2681\n",
            "Epoch 22/25\n",
            "21/21 [==============================] - 0s 5ms/step - factorized_top_k/top_1_categorical_accuracy: 0.0000e+00 - factorized_top_k/top_5_categorical_accuracy: 0.0000e+00 - factorized_top_k/top_10_categorical_accuracy: 0.0000e+00 - factorized_top_k/top_50_categorical_accuracy: 0.0000e+00 - factorized_top_k/top_100_categorical_accuracy: 0.0000e+00 - loss: 0.2697 - regularization_loss: 0.0000e+00 - total_loss: 0.2697\n",
            "Epoch 23/25\n",
            "21/21 [==============================] - 0s 5ms/step - factorized_top_k/top_1_categorical_accuracy: 0.0000e+00 - factorized_top_k/top_5_categorical_accuracy: 0.0000e+00 - factorized_top_k/top_10_categorical_accuracy: 0.0000e+00 - factorized_top_k/top_50_categorical_accuracy: 0.0000e+00 - factorized_top_k/top_100_categorical_accuracy: 0.0000e+00 - loss: 0.2722 - regularization_loss: 0.0000e+00 - total_loss: 0.2722\n",
            "Epoch 24/25\n",
            "21/21 [==============================] - 0s 5ms/step - factorized_top_k/top_1_categorical_accuracy: 0.0000e+00 - factorized_top_k/top_5_categorical_accuracy: 0.0000e+00 - factorized_top_k/top_10_categorical_accuracy: 0.0000e+00 - factorized_top_k/top_50_categorical_accuracy: 0.0000e+00 - factorized_top_k/top_100_categorical_accuracy: 0.0000e+00 - loss: 0.2724 - regularization_loss: 0.0000e+00 - total_loss: 0.2724\n",
            "Epoch 25/25\n",
            "21/21 [==============================] - 2s 99ms/step - factorized_top_k/top_1_categorical_accuracy: 0.0000e+00 - factorized_top_k/top_5_categorical_accuracy: 0.0000e+00 - factorized_top_k/top_10_categorical_accuracy: 0.0000e+00 - factorized_top_k/top_50_categorical_accuracy: 0.0000e+00 - factorized_top_k/top_100_categorical_accuracy: 0.0000e+00 - loss: 0.2683 - regularization_loss: 0.0000e+00 - total_loss: 0.2683 - val_factorized_top_k/top_1_categorical_accuracy: 0.2079 - val_factorized_top_k/top_5_categorical_accuracy: 0.6832 - val_factorized_top_k/top_10_categorical_accuracy: 0.9604 - val_factorized_top_k/top_50_categorical_accuracy: 0.9901 - val_factorized_top_k/top_100_categorical_accuracy: 0.9901 - val_loss: 0.0000e+00 - val_regularization_loss: 0.0000e+00 - val_total_loss: 0.0000e+00\n"
          ]
        }
      ],
      "source": [
        "one_layer_history = model.fit(cached_train, epochs=num_epochs, validation_data=cached_test, validation_freq=5)"
      ]
    },
    {
      "cell_type": "code",
      "execution_count": 15,
      "metadata": {
        "colab": {
          "base_uri": "https://localhost:8080/"
        },
        "id": "l5pU5OyQkDUG",
        "outputId": "1440ceaa-4cfc-40bc-ea18-812053d7b23e"
      },
      "outputs": [
        {
          "name": "stdout",
          "output_type": "stream",
          "text": [
            "Top-10 accuracy: 0.9603960514.\n"
          ]
        }
      ],
      "source": [
        "accuracy = one_layer_history.history[\"val_factorized_top_k/top_10_categorical_accuracy\"][-1]\n",
        "print(f\"Top-10 accuracy: {accuracy:.10f}.\")"
      ]
    },
    {
      "cell_type": "code",
      "execution_count": 30,
      "metadata": {
        "colab": {
          "base_uri": "https://localhost:8080/"
        },
        "id": "fpHVANHPkDUH",
        "outputId": "d448093d-6ba3-4745-fadd-60b39ec56467"
      },
      "outputs": [
        {
          "name": "stdout",
          "output_type": "stream",
          "text": [
            "Top-100 accuracy: 0.56.\n"
          ]
        }
      ],
      "source": [
        "model = FoodRecModel([64, 32])\n",
        "model.compile(optimizer=tf.keras.optimizers.Adagrad(0.1))\n",
        "\n",
        "two_layer_history = model.fit(\n",
        "    cached_train,\n",
        "    validation_data=cached_test,\n",
        "    validation_freq=5,\n",
        "    epochs=num_epochs,\n",
        "    verbose=0)\n",
        "\n",
        "accuracy = two_layer_history.history[\"val_factorized_top_k/top_5_categorical_accuracy\"][-1]\n",
        "print(f\"Top-100 accuracy: {accuracy:.2f}.\")"
      ]
    },
    {
      "cell_type": "code",
      "execution_count": 31,
      "metadata": {
        "colab": {
          "base_uri": "https://localhost:8080/",
          "height": 312
        },
        "id": "5aWmNyBykDUI",
        "outputId": "2e5fc14a-e6ce-4c85-fe9d-425861c5e187"
      },
      "outputs": [
        {
          "data": {
            "text/plain": [
              "<matplotlib.legend.Legend at 0x7fead941cb90>"
            ]
          },
          "execution_count": 31,
          "metadata": {},
          "output_type": "execute_result"
        },
        {
          "data": {
            "image/png": "[encoded data removed]",
            "text/plain": [
              "<Figure size 432x288 with 1 Axes>"
            ]
          },
          "metadata": {
            "needs_background": "light"
          },
          "output_type": "display_data"
        }
      ],
      "source": [
        "num_validation_runs = len(one_layer_history.history[\"val_factorized_top_k/top_5_categorical_accuracy\"])\n",
        "epochs = [(x + 1)* 5 for x in range(num_validation_runs)]\n",
        "\n",
        "plt.plot(epochs, one_layer_history.history[\"val_factorized_top_k/top_5_categorical_accuracy\"], label=\"1 layer\")\n",
        "plt.plot(epochs, two_layer_history.history[\"val_factorized_top_k/top_5_categorical_accuracy\"], label=\"2 layers\")\n",
        "plt.title(\"Accuracy vs epoch\")\n",
        "plt.xlabel(\"epoch\")\n",
        "plt.ylabel(\"Top-5 accuracy\");\n",
        "plt.legend()"
      ]
    },
    {
      "cell_type": "code",
      "execution_count": 16,
      "metadata": {
        "colab": {
          "base_uri": "https://localhost:8080/"
        },
        "id": "eMBNb_EjkDUJ",
        "outputId": "df0dde6e-dd08-460d-8ae3-5ad41e4e8c21"
      },
      "outputs": [
        {
          "name": "stdout",
          "output_type": "stream",
          "text": [
            "21/21 [==============================] - 3s 141ms/step - factorized_top_k/top_1_categorical_accuracy: 0.2079 - factorized_top_k/top_5_categorical_accuracy: 0.6832 - factorized_top_k/top_10_categorical_accuracy: 0.9604 - factorized_top_k/top_50_categorical_accuracy: 0.9901 - factorized_top_k/top_100_categorical_accuracy: 0.9901 - loss: 1.8673 - regularization_loss: 0.0000e+00 - total_loss: 1.8673\n"
          ]
        },
        {
          "data": {
            "text/plain": [
              "{'factorized_top_k/top_1_categorical_accuracy': 0.20792078971862793,\n",
              " 'factorized_top_k/top_5_categorical_accuracy': 0.6831682920455933,\n",
              " 'factorized_top_k/top_10_categorical_accuracy': 0.9603960514068604,\n",
              " 'factorized_top_k/top_50_categorical_accuracy': 0.9900990128517151,\n",
              " 'factorized_top_k/top_100_categorical_accuracy': 0.9900990128517151,\n",
              " 'loss': 0.0,\n",
              " 'regularization_loss': 0,\n",
              " 'total_loss': 0.0}"
            ]
          },
          "execution_count": 16,
          "metadata": {},
          "output_type": "execute_result"
        }
      ],
      "source": [
        "model.evaluate(cached_test, return_dict=True)"
      ]
    },
    {
      "cell_type": "markdown",
      "metadata": {
        "id": "7YeqNRgsVQI_"
      },
      "source": [
        "# Prediksi\n",
        "\n",
        "- Membuat layer baru dengan nama variabel index yang akan digunakan untuk memprediksi dan juga untuk dideploy"
      ]
    },
    {
      "cell_type": "code",
      "execution_count": 17,
      "metadata": {
        "colab": {
          "base_uri": "https://localhost:8080/"
        },
        "id": "CK43EzffkDUK",
        "outputId": "821afd5d-3c32-45f2-ac47-014e62af72b0"
      },
      "outputs": [
        {
          "data": {
            "text/plain": [
              "<tensorflow_recommenders.layers.factorized_top_k.BruteForce at 0x29bb9a16920>"
            ]
          },
          "execution_count": 17,
          "metadata": {},
          "output_type": "execute_result"
        }
      ],
      "source": [
        "# Create a model that takes in raw query features, and\n",
        "index = tfrs.layers.factorized_top_k.BruteForce(model.query_model)\n",
        "index.index_from_dataset(\n",
        "  foods_ds.batch(20).map(lambda  name: (name, model.candidate_model(name)))\n",
        ")"
      ]
    },
    {
      "cell_type": "code",
      "execution_count": 18,
      "metadata": {
        "colab": {
          "base_uri": "https://localhost:8080/"
        },
        "id": "ETmPnh4gkDUL",
        "outputId": "5518e1dd-329a-47b9-88b5-3944131ded75"
      },
      "outputs": [
        {
          "name": "stdout",
          "output_type": "stream",
          "text": [
            "Top 10 recommendation for Disease: [b'banana walnut smoothie' b'green asparagus risotto'\n",
            " b'moong dal kiwi coconut soup' b'oyster lamb'\n",
            " b'couscous with ratatouille - tangy tomato sauce'\n",
            " b'baked shankarpali recipe' b'chocolate appo'\n",
            " b'almond and cranberry poha' b'green cucumber shots' b'egg paratha']\n"
          ]
        }
      ],
      "source": [
        "_, diets = index({\n",
        "    \"User_Id\": np.array(['User_80']),\n",
        "    \"Disease\": np.array(['anemia'])\n",
        "})\n",
        "print(f\"Top 10 recommendation for Disease: {diets[0, :20]}\")"
      ]
    },
    {
      "cell_type": "markdown",
      "metadata": {
        "id": "OkyzsmRLVe8H"
      },
      "source": [
        "# Deploy Model"
      ]
    },
    {
      "cell_type": "code",
      "execution_count": 19,
      "metadata": {},
      "outputs": [
        {
          "name": "stderr",
          "output_type": "stream",
          "text": [
            "WARNING:absl:Function `_wrapped_model` contains input name(s) Disease, User_Id with unsupported characters which will be renamed to disease, user_id in the SavedModel.\n",
            "WARNING:absl:Found untraced functions such as query_with_exclusions while saving (showing 1 of 1). These functions will not be directly callable after loading.\n"
          ]
        },
        {
          "name": "stdout",
          "output_type": "stream",
          "text": [
            "INFO:tensorflow:Assets written to: model\\assets\n"
          ]
        },
        {
          "name": "stderr",
          "output_type": "stream",
          "text": [
            "INFO:tensorflow:Assets written to: model\\assets\n"
          ]
        }
      ],
      "source": [
        "tf.saved_model.save(index, 'model')"
      ]
    },
    {
      "cell_type": "markdown",
      "metadata": {
        "id": "QSUuVO1UVti-"
      },
      "source": [
        "Save model pada direktori yang diinginkan dan diberikan nomor versi"
      ]
    },
    {
      "cell_type": "code",
      "execution_count": 49,
      "metadata": {
        "colab": {
          "base_uri": "https://localhost:8080/"
        },
        "id": "ccJW5vfuBM7B",
        "outputId": "67e566c1-a2d7-494c-a459-09528d2c4543"
      },
      "outputs": [
        {
          "name": "stderr",
          "output_type": "stream",
          "text": [
            "WARNING:absl:Function `_wrapped_model` contains input name(s) Disease, User_Id with unsupported characters which will be renamed to disease, user_id in the SavedModel.\n",
            "WARNING:absl:Found untraced functions such as query_with_exclusions while saving (showing 1 of 1). These functions will not be directly callable after loading.\n"
          ]
        },
        {
          "name": "stdout",
          "output_type": "stream",
          "text": [
            "INFO:tensorflow:Assets written to: /tmp/1/assets\n"
          ]
        },
        {
          "name": "stderr",
          "output_type": "stream",
          "text": [
            "INFO:tensorflow:Assets written to: /tmp/1/assets\n"
          ]
        },
        {
          "name": "stdout",
          "output_type": "stream",
          "text": [
            "\n",
            "export_path = /tmp/1\n",
            "total 484\n",
            "drwxr-xr-x 2 root root   4096 Jun  5 13:26 assets\n",
            "-rw-r--r-- 1 root root 486488 Jun  5 13:26 saved_model.pb\n",
            "drwxr-xr-x 2 root root   4096 Jun  5 13:26 variables\n"
          ]
        }
      ],
      "source": [
        "MODEL_DIR = tempfile.gettempdir()\n",
        "version = 1\n",
        "export_path = os.path.join(MODEL_DIR, str(version))\n",
        "\n",
        "if os.path.isdir(export_path):\n",
        "  print(\"already saved a model\")\n",
        "  !rm -r {export_path}\n",
        "\n",
        "tf.saved_model.save(index, export_path)\n",
        "print('\\nexport_path = {}'.format(export_path))\n",
        "!ls -l {export_path}"
      ]
    },
    {
      "cell_type": "code",
      "execution_count": 50,
      "metadata": {
        "colab": {
          "base_uri": "https://localhost:8080/"
        },
        "id": "VHAbDlo7C-PH",
        "outputId": "ce0bbe7a-2c3e-492a-c505-ca6863c1b256"
      },
      "outputs": [
        {
          "name": "stdout",
          "output_type": "stream",
          "text": [
            "\n",
            "MetaGraphDef with tag-set: 'serve' contains the following SignatureDefs:\n",
            "\n",
            "signature_def['__saved_model_init_op']:\n",
            "  The given SavedModel SignatureDef contains the following input(s):\n",
            "  The given SavedModel SignatureDef contains the following output(s):\n",
            "    outputs['__saved_model_init_op'] tensor_info:\n",
            "        dtype: DT_INVALID\n",
            "        shape: unknown_rank\n",
            "        name: NoOp\n",
            "  Method name is: \n",
            "\n",
            "signature_def['serving_default']:\n",
            "  The given SavedModel SignatureDef contains the following input(s):\n",
            "    inputs['Disease'] tensor_info:\n",
            "        dtype: DT_STRING\n",
            "        shape: (-1)\n",
            "        name: serving_default_Disease:0\n",
            "    inputs['User_Id'] tensor_info:\n",
            "        dtype: DT_STRING\n",
            "        shape: (-1)\n",
            "        name: serving_default_User_Id:0\n",
            "  The given SavedModel SignatureDef contains the following output(s):\n",
            "    outputs['output_1'] tensor_info:\n",
            "        dtype: DT_FLOAT\n",
            "        shape: (-1, 10)\n",
            "        name: StatefulPartitionedCall_3:0\n",
            "    outputs['output_2'] tensor_info:\n",
            "        dtype: DT_STRING\n",
            "        shape: (-1, 10)\n",
            "        name: StatefulPartitionedCall_3:1\n",
            "  Method name is: tensorflow/serving/predict\n",
            "2022-06-05 13:26:51.683274: E tensorflow/stream_executor/cuda/cuda_driver.cc:271] failed call to cuInit: CUDA_ERROR_NO_DEVICE: no CUDA-capable device is detected\n",
            "Traceback (most recent call last):\n",
            "  File \"/usr/local/bin/saved_model_cli\", line 8, in <module>\n",
            "    sys.exit(main())\n",
            "  File \"/usr/local/lib/python3.7/dist-packages/tensorflow/python/tools/saved_model_cli.py\", line 1260, in main\n",
            "    args.func(args)\n",
            "  File \"/usr/local/lib/python3.7/dist-packages/tensorflow/python/tools/saved_model_cli.py\", line 734, in show\n",
            "    _show_all(args.dir)\n",
            "  File \"/usr/local/lib/python3.7/dist-packages/tensorflow/python/tools/saved_model_cli.py\", line 313, in _show_all\n",
            "    _show_defined_functions(saved_model_dir)\n",
            "  File \"/usr/local/lib/python3.7/dist-packages/tensorflow/python/tools/saved_model_cli.py\", line 191, in _show_defined_functions\n",
            "    trackable_object = load.load(saved_model_dir)\n",
            "  File \"/usr/local/lib/python3.7/dist-packages/tensorflow/python/saved_model/load.py\", line 936, in load\n",
            "    result = load_internal(export_dir, tags, options)[\"root\"]\n",
            "  File \"/usr/local/lib/python3.7/dist-packages/tensorflow/python/saved_model/load.py\", line 975, in load_internal\n",
            "    ckpt_options, options, filters)\n",
            "  File \"/usr/local/lib/python3.7/dist-packages/tensorflow/python/saved_model/load.py\", line 187, in __init__\n",
            "    self._restore_checkpoint()\n",
            "  File \"/usr/local/lib/python3.7/dist-packages/tensorflow/python/saved_model/load.py\", line 595, in _restore_checkpoint\n",
            "    f\"Unable to restore state of object {obj} from the checkpoint.\")\n",
            "NotImplementedError: Unable to restore state of object <tensorflow.python.training.tracking.resource.RestoredResource object at 0x7f9b75be0650> from the checkpoint.\n"
          ]
        }
      ],
      "source": [
        "!saved_model_cli show --dir {export_path} --all"
      ]
    },
    {
      "cell_type": "markdown",
      "metadata": {
        "id": "SIzHCvMkV1yv"
      },
      "source": [
        "Deploy model dengan tf serving"
      ]
    },
    {
      "cell_type": "code",
      "execution_count": 51,
      "metadata": {
        "id": "jyNaWK8GDKTX"
      },
      "outputs": [],
      "source": [
        "os.environ[\"MODEL_DIR\"] = MODEL_DIR"
      ]
    },
    {
      "cell_type": "code",
      "execution_count": 52,
      "metadata": {
        "colab": {
          "base_uri": "https://localhost:8080/"
        },
        "id": "ZVZk3gymDOJO",
        "outputId": "e36ed917-c067-4f8b-f967-cb9a54c912a2"
      },
      "outputs": [
        {
          "name": "stdout",
          "output_type": "stream",
          "text": [
            "Starting job # 0 in a separate thread.\n"
          ]
        }
      ],
      "source": [
        "%%bash --bg \n",
        "nohup tensorflow_model_server \\\n",
        "  --rest_api_port=8501 \\\n",
        "  --model_name=foodrec \\\n",
        "  --model_base_path=\"${MODEL_DIR}\" >server.log 2>&1"
      ]
    },
    {
      "cell_type": "code",
      "execution_count": 53,
      "metadata": {
        "colab": {
          "base_uri": "https://localhost:8080/"
        },
        "id": "wqQMU_geDRGw",
        "outputId": "6f54a141-fef0-4ea2-92e7-521b1195a3f4"
      },
      "outputs": [
        {
          "name": "stdout",
          "output_type": "stream",
          "text": [
            "[warn] getaddrinfo: address family for nodename not supported\n",
            "[evhttp_server.cc : 245] NET_LOG: Entering the event loop ...\n"
          ]
        }
      ],
      "source": [
        "!tail server.log"
      ]
    },
    {
      "cell_type": "markdown",
      "metadata": {
        "id": "DPf_yabpWBH4"
      },
      "source": [
        "# Call the Model\n",
        "\n",
        "- Membuat prediksi dengan memanggil model menggunakan modul requests"
      ]
    },
    {
      "cell_type": "code",
      "execution_count": 151,
      "metadata": {
        "colab": {
          "base_uri": "https://localhost:8080/"
        },
        "id": "xC8hkN-0DW28",
        "outputId": "957ec9c1-83c6-4163-f9b5-d684a61cc095"
      },
      "outputs": [
        {
          "name": "stdout",
          "output_type": "stream",
          "text": [
            "{\"signature_name\": \"serving_default\", \"instances\": [{\"Disease\": \"hypertension\", \"User_Id\": \"User_105\"}]}\n"
          ]
        }
      ],
      "source": [
        "xs = np.array(['goitre'])\n",
        "ys = np.array(['User_80'])\n",
        "data = json.dumps({\"signature_name\": \"serving_default\", \"instances\": [{\"Disease\": 'hypertension',\n",
        "\"User_Id\": 'User_105'\n",
        "}]})\n",
        "print(data)"
      ]
    },
    {
      "cell_type": "code",
      "execution_count": 152,
      "metadata": {
        "colab": {
          "base_uri": "https://localhost:8080/"
        },
        "id": "7bx2wK52Df5v",
        "outputId": "ad13bfbe-a5e5-44c8-af4a-27e33d63f1cf"
      },
      "outputs": [
        {
          "name": "stdout",
          "output_type": "stream",
          "text": [
            "{\n",
            "    \"predictions\": [\n",
            "        {\n",
            "            \"output_1\": [5.35065556, 5.09741449, 5.08111143, 4.6328373, 4.36994, 4.05344582, 3.8008883, 3.67196918, 3.48455358, 3.44286227],\n",
            "            \"output_2\": [\"green asparagus risotto\", \"moong dal kiwi coconut soup\", \"banana chips\", \"green cucumber shots\", \"fried rice with soya chunks\", \"dahi lasooni chicken\", \"shepherds salad (tamatar-kheera salaad)\", \"egg paratha\", \"prawn and litchi salad\", \"baked almond kofta\"]\n",
            "        }\n",
            "    ]\n",
            "}\n"
          ]
        }
      ],
      "source": [
        "headers = {\"content-type\": \"application/json\"}\n",
        "json_response = requests.post('http://localhost:8501/v1/models/foodrec:predict', data=data, headers=headers)\n",
        "\n",
        "print(json_response.text)"
      ]
    },
    {
      "cell_type": "code",
      "execution_count": 156,
      "metadata": {
        "colab": {
          "base_uri": "https://localhost:8080/"
        },
        "id": "34amkNCLRGVK",
        "outputId": "728e4d36-93f0-4254-e1b1-b93dd9da1252"
      },
      "outputs": [
        {
          "name": "stdout",
          "output_type": "stream",
          "text": [
            "[{'output_1': [5.35065556, 5.09741449, 5.08111143, 4.6328373, 4.36994, 4.05344582, 3.8008883, 3.67196918, 3.48455358, 3.44286227], 'output_2': ['green asparagus risotto', 'moong dal kiwi coconut soup', 'banana chips', 'green cucumber shots', 'fried rice with soya chunks', 'dahi lasooni chicken', 'shepherds salad (tamatar-kheera salaad)', 'egg paratha', 'prawn and litchi salad', 'baked almond kofta']}]\n"
          ]
        }
      ],
      "source": [
        "predictions = json.loads(json_response.text)['predictions']\n",
        "print(predictions)"
      ]
    }
  ],
  "metadata": {
    "colab": {
      "collapsed_sections": [],
      "name": "rec_system_test_2.ipynb",
      "provenance": []
    },
    "interpreter": {
      "hash": "c3cb1dd373ca4450157e6f8978f97933cc3a7cdc0a8066204e60afd9526c388d"
    },
    "kernelspec": {
      "display_name": "Python 3.10.2 64-bit",
      "language": "python",
      "name": "python3"
    },
    "language_info": {
      "codemirror_mode": {
        "name": "ipython",
        "version": 3
      },
      "file_extension": ".py",
      "mimetype": "text/x-python",
      "name": "python",
      "nbconvert_exporter": "python",
      "pygments_lexer": "ipython3",
      "version": "3.10.2"
    },
    "orig_nbformat": 4
  },
  "nbformat": 4,
  "nbformat_minor": 0
}
